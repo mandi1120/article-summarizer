{
 "cells": [
  {
   "cell_type": "markdown",
   "metadata": {},
   "source": [
    "# Web Mining and Applied NLP (44-620)\n",
    "\n",
    "## Final Project: Article Summarizer\n",
    "\n",
    "### Student Name: Amanda Hanway\n",
    "### Repository: https://github.com/mandi1120/article-summarizer \n",
    "\n",
    "Perform the tasks described in the Markdown cells below.  When you have completed the assignment make sure your code cells have all been run (and have output beneath them) and ensure you have committed and pushed ALL of your changes to your assignment repository.\n",
    "\n",
    "You should bring in code from previous assignments to help you answer the questions below.\n",
    "\n",
    "Every question that requires you to write code will have a code cell underneath it; you may either write your entire solution in that cell or write it in a python file (`.py`), then import and run the appropriate code to answer the question."
   ]
  },
  {
   "cell_type": "markdown",
   "metadata": {},
   "source": [
    "-----\n",
    "#### QUESTION 1"
   ]
  },
  {
   "cell_type": "markdown",
   "metadata": {},
   "source": [
    "1. Find on the internet an article or blog post about a topic that interests you and you are able to get the text for using the technologies we have applied in the course.  Get the html for the article and store it in a file (which you must submit with your project)"
   ]
  },
  {
   "cell_type": "code",
   "execution_count": 13,
   "metadata": {},
   "outputs": [],
   "source": [
    "import requests\n",
    "import pickle\n",
    "from bs4 import BeautifulSoup\n",
    "import spacy\n",
    "from spacytextblob.spacytextblob import SpacyTextBlob\n",
    "from collections import Counter\n",
    "\n",
    "article_page = requests.get('https://www.theatlantic.com/technology/archive/2022/11/elon-musk-twitter-bad-habit/672249/')\n",
    "article_html = article_page.text\n",
    "\n",
    "# create pickle file for exercises\n",
    "with open('elon-musk-twitter-bad-habit.pkl', 'wb') as f:\n",
    "    pickle.dump(article_page.text, f)\n",
    "    \n",
    "# create html file to submit   \n",
    "soup = BeautifulSoup(article_html, 'html5lib')    \n",
    "article_content = soup.find('article')   \n",
    "with open(\"elon-musk-twitter-bad-habit.html\", \"w\", encoding = 'utf-8') as file:\n",
    "    file.write(article_content.get_text())"
   ]
  },
  {
   "cell_type": "markdown",
   "metadata": {},
   "source": [
    "-----\n",
    "#### QUESTION 2"
   ]
  },
  {
   "cell_type": "markdown",
   "metadata": {},
   "source": [
    "2. Read in your article's html source from the file you created in question 1 and do sentiment analysis on the article/post's text (use `.get_text()`).  Print the polarity score with an appropriate label.  Additionally print the number of sentences in the original article (with an appropriate label)"
   ]
  },
  {
   "cell_type": "code",
   "execution_count": 14,
   "metadata": {},
   "outputs": [
    {
     "name": "stdout",
     "output_type": "stream",
     "text": [
      "\n",
      "ARTICLE CONTENT:\n",
      " TechnologyThe Madness of TwitterPeople just can’t stop tweeting about all the tweets they see.By Ian BogostGetty; The AtlanticNovember 22, 2022ShareWe are living through the most Twittery moment of all time. Since Elon Musk took over Twitter, whose users sometimes call it a “hellsite,” tweeters have been tweeting in panic mode, as if from an aircraft about to careen into a mountainside. Woe, Musk is ruining Twitter! The service will collapse! It’s sure to grind to a halt any day now! Where will we go next? Some are even calling the exfiltration to platforms such as Mastodon (a bewildering perplexity), Hive (a CIA front?), and Post (what even is this?) a search for “lifeboats.” The result is super embarrassing and even profoundly shameful.Yes, look, okay, there are actual stakes here. Elon Musk, a prolific tweeter and also the richest man in the world despite losing $100 billion this year, might be single-handedly destroying a major social-media platform. At the very least, he is upending it, wreaking havoc on the company that makes the tweet-tweeting software. He resurrected the once-suspended account of Donald Trump (and of Kanye West, The Babylon Bee, and others). He fired half the staff, then called some of them back and demanded oaths of fealty from them, perhaps in violation of labor law. Musk’s role seems to oscillate between Stalin and Paul Blart, mall cop, severe reprisal giving way to cringey oafishness and back again.All throughout, others tweeted nearby. The media, who tweet as if their lives depend on it, were already concerned that Musk’s antics might kill off the service, which has offered them both easy access to reporting and a valuable platform for professional attention. Soon, nearly every tweet by Musk produced its own news story, as outlets followed the chaos live. Twitter teeters on the edge; Musk orders coders to HQ; A timeline of Elon Musk’s takeover; Twitter death watch captivates millions.Does it “captivate millions” though? I’m going to try to be honest with you here: We, the media, are giving Twitter more credence than it deserves. The community of professionals whose job and privilege it is to communicate urgent events and ideas to the public from august and storied platforms such as this magazine have massively overcompensated, mistaking Twitter’s importance to them for its importance in general. Twitter feels important because it appears to represent a cross section of all voices speaking all at once for everyone, a representative democracy of one-liners.Read: Twitter’s slow and painful endWith some reason. Twitter has, since its start, embraced the sublime disorder of many voices speaking over one another. Back in 2006, when the service first launched, it even boasted a public timeline, in which a stream of all tweets was visible by anyone, whether they followed the tweeter or not. The bedlam of Twitter, fused with the brevity of its form, offers an interpretation of the virtual town square as a bustling, modernist city.At least in theory. In practice, Twitter is more like an asylum, inmates screaming at everyone and no one in particular, histrionics displacing reason, posters posting at all costs because posting is all that is possible. Late last week, for example, a litany of end-of-days tweets fell upon the service, frenzied posters just certain that Musk’s firings would cause the site to literally fail at any minute. These posts looked extremely embarrassing to some onlookers even at the time, but even more so when morning came (and then another, and another, and others still) and the tweeters kept a-tweeting. A journalist-spurred Twitter Space about the supposedly imminent death of Twitter encouraged participants to gaze at navels for three hours (three hours), reportedly drawing almost 200,000 lost souls across the event horizon of its sticky maw. A New York Times Style article on journalists’ egress to a Mastodon server included one writer’s invocation of a “trauma bond” with the app. This is neither press nor paean but just—ugh—painful.The platform is optimized to make the nonevent of its own exaggerated demise seem significant. At times, people post to share important and timely information about something happening in their immediate vicinity. Some of those posts justify further discourse, including news stories. Most of them do not. And yet, the very existence of tweets about an event can make that event seem newsworthy—by virtue of having garnered tweets. This supposed newsworthiness can then result in literal news stories, written by journalists and based on inspiration or sourcing from tweets themselves, or it can entail the further spread of a tweet’s message by on-platform engagement, such as likes and quote tweets. Either way, the nature of Twitter is to assert the importance of tweets.Tweets appear more meaningful when amplified, and when amplified they inspire more tweets in the same vein. A thing becomes “tweetworthy” when it spreads but then also justifies its value both on and beyond Twitter by virtue of having spread. This is the “famous for being famous” effect, a kind of Kardashification of all ideas.This propensity is not unique to Twitter—all social media possesses it. But the frequency and quantity of posts on Twitter, along with their brevity, their focus on text, and their tendency to be vectors of news, official or not, make Twitter a particularly effective amplification house of mirrors. It’s easy to get stuck in a feedback loop: That which appears on Twitter is current (if not always true), and what’s current is meaningful, and what’s meaningful demands contending with. And so, matters that matter little or not at all gain traction by virtue of the fact that they found enough initial friction to start moving.Twitter shapes an epistemology for users under its thrall. What can be known, and how, becomes infected by what has been, or can be, tweeted. That’s bad enough for ordinary folks, but it’s particularly dangerous for the press. Journalists overuse Twitter as a professional community and as a source for sources. Producers of supposedly actual news see the world through tweet-colored glasses, by transforming tweets’ hypothetical status as news into published news—which produces more tweeting in turn.Read: The age of social media is endingMusk’s Twitter calamity plumbs a new nadir of this bad practice: Who could be a more tempting call to tweet than one of the biggest tweeters, a long-standing chaos agent who, despite his enormous wealth, resembles a shitposter more than a magnate? He appears to be destroying the site in the name of saving it, right in full view of its most obsessive users.For them, and others on this website, it has become an awful habit. Habits feel normal and even justified because they are familiar, not because they are righteous. Even good habits, such as exercise or thrift, can overheat into excess when carried out with obsession. Twitter convinced us that it mattered, that it was the world’s news service, or a vector for hashtag activism, or a host for communities without voices, or a mouthpiece for the little gal or guy. It is those things, sometimes, for some of its users. But first, and mostly, it is a habit.What more perfect use of this hellsite than to turn it over entirely to tweets about Twitter, tweets about tweeting, tweets about leaving Twitter, tweets about how Twitter runs, or should, or won’t, or how it will end, any day now … This is what we were after all along, the purest distillation of a service that devours itself in order to fuel its own furtherance.We never really tweeted to say something. We tweeted because Twitter offered a format for having something to say, over and over again. Just as the purpose of terrorism is terror, so the purpose of Twitter is tweeting. \n",
      "----------------------------------------\n",
      "ARTICLE POLARITY SCORE: 0.145 \n",
      "----------------------------------------\n",
      "ARTICLE SENTENCE COUNT: 67 \n",
      "----------------------------------------\n"
     ]
    }
   ],
   "source": [
    "dashes = \"\\n----------------------------------------\"\n",
    "\n",
    "# read in the article's html source from the file created in q. 1\n",
    "with open('elon-musk-twitter-bad-habit.pkl', 'rb') as f:\n",
    "    article_html = pickle.load(f)\n",
    "    \n",
    "soup = BeautifulSoup(article_html, 'html5lib')    \n",
    "article_content = soup.find('article')    \n",
    "print(\"\\nARTICLE CONTENT:\\n\", article_content.get_text(), dashes)    \n",
    "\n",
    "# do sentiment analysis and the article text using spacy\n",
    "nlp = spacy.load('en_core_web_sm')\n",
    "nlp.add_pipe('spacytextblob')\n",
    "doc = nlp(article_content.get_text())\n",
    "\n",
    "# print the polarity score with an appropriate label\n",
    "polarity = doc._.blob.polarity\n",
    "print(\"ARTICLE POLARITY SCORE:\", round(polarity,3), dashes)        \n",
    "\n",
    "# print the number of sentences in the original article with an appropriate label\n",
    "sentences = list(doc.sents)\n",
    "sentence_count = 0\n",
    "for s in sentences:\n",
    "    sentence_count +=1\n",
    "print(\"ARTICLE SENTENCE COUNT:\", sentence_count, dashes)    "
   ]
  },
  {
   "cell_type": "markdown",
   "metadata": {},
   "source": [
    "-----\n",
    "#### QUESTION 3"
   ]
  },
  {
   "cell_type": "markdown",
   "metadata": {},
   "source": [
    "3. Load the article text into a trained `spaCy` pipeline, and determine the 5 most frequent tokens (converted to lower case).  Print the common tokens with an appropriate label.  Additionally, print the tokens their frequencies (with appropriate labels)"
   ]
  },
  {
   "cell_type": "code",
   "execution_count": 4,
   "metadata": {},
   "outputs": [
    {
     "name": "stdout",
     "output_type": "stream",
     "text": [
      "\n",
      "5 most common tokens:\n",
      "  [('twitter', 28), ('tweets', 15), ('musk', 9), ('news', 8), ('tweeting', 7)]\n",
      "\n",
      "5 most common tokens with appropriate labels and frequencies:\n",
      "  #1 Most common token is \u001b[1mtwitter\u001b[0m with a count of \u001b[1m28\u001b[0m\n",
      "  #2 Most common token is \u001b[1mtweets\u001b[0m with a count of \u001b[1m15\u001b[0m\n",
      "  #3 Most common token is \u001b[1mmusk\u001b[0m with a count of \u001b[1m9\u001b[0m\n",
      "  #4 Most common token is \u001b[1mnews\u001b[0m with a count of \u001b[1m8\u001b[0m\n",
      "  #5 Most common token is \u001b[1mtweeting\u001b[0m with a count of \u001b[1m7\u001b[0m\n"
     ]
    }
   ],
   "source": [
    "# load article text into trained spaCy pipeline\n",
    "nlp = spacy.load('en_core_web_sm')\n",
    "nlp.add_pipe('spacytextblob')\n",
    "doc = nlp(article_content.get_text())\n",
    "\n",
    "# create a function to remove whitepace, stopwords, and punctuation\n",
    "def we_care_about(token):\n",
    "    return not (token.is_space or token.is_punct or token.is_stop)\n",
    "\n",
    "# remove whitespace, stopwords, and punctuation & make text lowercase\n",
    "interesting_tokens = [token.text.lower() for token in doc if we_care_about(token)]\n",
    "\n",
    "# count token frequency \n",
    "token_freq = Counter(map(str,interesting_tokens))\n",
    "five_most_common = token_freq.most_common(5)\n",
    "\n",
    "# print 5 most common tokens with label\n",
    "print(\"\\n5 most common tokens:\\n \", five_most_common)\n",
    "\n",
    "# print 5 most common tokens with appropriate labels & frequencies\n",
    "print(\"\\n5 most common tokens with appropriate labels and frequencies:\") \n",
    "c = 0\n",
    "for x in five_most_common:\n",
    "    c +=1\n",
    "    print(f\"  #{c} Most common token is\", '\\x1b[1m'+str(five_most_common[c-1][0])+'\\x1b[0m', \n",
    "          \"with a count of\", '\\x1b[1m'+str(five_most_common[c-1][1])+'\\x1b[0m') "
   ]
  },
  {
   "cell_type": "markdown",
   "metadata": {},
   "source": [
    "-----\n",
    "#### QUESTION 4"
   ]
  },
  {
   "cell_type": "markdown",
   "metadata": {},
   "source": [
    "4. Load the article text into a trained `spaCy` pipeline, and determine the 5 most frequent lemmas (converted to lower case).  Print the common lemmas with an appropriate label.  Additionally, print the lemmas with their frequencies (with appropriate labels)."
   ]
  },
  {
   "cell_type": "code",
   "execution_count": 6,
   "metadata": {},
   "outputs": [
    {
     "name": "stdout",
     "output_type": "stream",
     "text": [
      "\n",
      "5 most common lemmas:\n",
      "  [('tweet', 31), ('twitter', 28), ('musk', 9), ('news', 8), ('post', 7)]\n",
      "\n",
      "5 most common lemmas with appropriate labels and frequencies:\n",
      "  #1 Most common lemma is \u001b[1mtweet\u001b[0m with a count of \u001b[1m31\u001b[0m\n",
      "  #2 Most common lemma is \u001b[1mtwitter\u001b[0m with a count of \u001b[1m28\u001b[0m\n",
      "  #3 Most common lemma is \u001b[1mmusk\u001b[0m with a count of \u001b[1m9\u001b[0m\n",
      "  #4 Most common lemma is \u001b[1mnews\u001b[0m with a count of \u001b[1m8\u001b[0m\n",
      "  #5 Most common lemma is \u001b[1mpost\u001b[0m with a count of \u001b[1m7\u001b[0m\n"
     ]
    }
   ],
   "source": [
    "# load article text into trained spaCy pipeline\n",
    "nlp = spacy.load('en_core_web_sm')\n",
    "nlp.add_pipe('spacytextblob')\n",
    "doc = nlp(article_content.get_text())\n",
    "\n",
    "# create a function to remove whitepace, stopwords, and punctuation\n",
    "def we_care_about(token):\n",
    "    return not (token.is_space or token.is_punct or token.is_stop)\n",
    "\n",
    "# remove whitespace, stopwords, and punctuation & make text lowercase\n",
    "interesting_lemmas = [token.lemma_.lower() for token in doc if we_care_about(token)]\n",
    "\n",
    "# count lemma frequency \n",
    "lemma_freq = Counter(interesting_lemmas)\n",
    "five_most_common = lemma_freq.most_common(5)\n",
    "\n",
    "# print 5 most common lemmas with labels\n",
    "print(\"\\n5 most common lemmas:\\n \", five_most_common)\n",
    "\n",
    "# print 5 most common lemmas with appropriate labels & frequencies\n",
    "print(\"\\n5 most common lemmas with appropriate labels and frequencies:\") \n",
    "c = 0\n",
    "for x in five_most_common:\n",
    "    c +=1\n",
    "    print(f\"  #{c} Most common lemma is\", '\\x1b[1m'+str(five_most_common[c-1][0])+'\\x1b[0m', \n",
    "          \"with a count of\", '\\x1b[1m'+str(five_most_common[c-1][1])+'\\x1b[0m') "
   ]
  },
  {
   "cell_type": "markdown",
   "metadata": {},
   "source": [
    "-----\n",
    "#### QUESTION 5"
   ]
  },
  {
   "cell_type": "markdown",
   "metadata": {},
   "source": [
    "5. Make a list containing the scores (using tokens) of every sentence in the article, and plot a histogram with appropriate titles and axis labels of the scores. From your histogram, what seems to be the most common range of scores (put the answer in a comment after your code)?"
   ]
  },
  {
   "cell_type": "code",
   "execution_count": 7,
   "metadata": {},
   "outputs": [
    {
     "name": "stdout",
     "output_type": "stream",
     "text": [
      "\n",
      "SENTENCE SCORE LIST USING TOKENS:\n",
      " [0.13333, 0.0, 0.09677, 0.4, 0.0, 0.0, 0.0, 0.0, 0.0, 0.0, 0.0, 0.03333, 0.05263, 0.0, 0.0, 0.04348, 0.0, 0.02564, 0.11765, 0.18182, 0.0, 0.04545, 0.02381, 0.03846, 0.11111, 0.0625, 0.03125, 0.04167, 0.0, 0, 0.03125, 0.05882, 0.0303, 0.05405, 0.0, 0.0, 0.0, 0.0, 0.1, 0.0, 0.09091, 0.06818, 0.15385, 0.11765, 0.04348, 0.0, 0.08333, 0.08108, 0.02941, 0.0, 0.11111, 0.0, 0.0, 0.07692, 0.17857, 0.01961, 0.0, 0.0, 0.0, 0.0, 0.05556, 0.0, 0.0, 0.12121, 0.0, 0.0625, 0.13333]\n"
     ]
    },
    {
     "data": {
      "image/png": "[encoded data removed]",
      "text/plain": [
       "<Figure size 640x480 with 1 Axes>"
      ]
     },
     "metadata": {},
     "output_type": "display_data"
    },
    {
     "data": {
      "text/plain": [
       "'ANSWER: The most common range of scores is 0 to 0.04 '"
      ]
     },
     "execution_count": 7,
     "metadata": {},
     "output_type": "execute_result"
    }
   ],
   "source": [
    "# load article text into trained spaCy pipeline\n",
    "nlp = spacy.load('en_core_web_sm')\n",
    "nlp.add_pipe('spacytextblob')\n",
    "doc = nlp(article_content.get_text())\n",
    "\n",
    "# create a function to remove whitepace, stopwords, and punctuation\n",
    "def we_care_about(token):\n",
    "    return not (token.is_space or token.is_punct or token.is_stop)\n",
    "\n",
    "# remove whitespace, stopwords, and punctuation & make text lowercase\n",
    "interesting_tokens = [token.text.lower() for token in doc if we_care_about(token)]\n",
    "\n",
    "# count token frequency \n",
    "token_freq = Counter(map(str,interesting_tokens))\n",
    "\n",
    "# important words, 5 most common \n",
    "important_tokens = set()\n",
    "for word, freq in token_freq.most_common(5):\n",
    "    important_tokens.add(word)\n",
    "# print(\"\\n5 MOST COMMON TOKENS:\", important_tokens, \"\\n\")\n",
    "\n",
    "# count number of words in each sentence\n",
    "sentences = list(doc.sents)\n",
    "sentence_count = 0\n",
    "sentence_score_list = list()\n",
    "\n",
    "for sentence in sentences:\n",
    "    sentence_count +=1\n",
    "    important_count = 0\n",
    "    total_count = 0\n",
    "    \n",
    "    for token in sentence:\n",
    "        #count important words in sentence\n",
    "        if token.text.lower() in important_tokens:\n",
    "            important_count += 1\n",
    "        \n",
    "        #count total words in sentence\n",
    "        if not(token.is_space or token.is_punct):\n",
    "            total_count += 1\n",
    "    \n",
    "    score = 0 if total_count == 0 else round(important_count/total_count, 5)\n",
    "    sentence_score_list.append(score)\n",
    "\n",
    "print(\"\\nSENTENCE SCORE LIST USING TOKENS:\\n\", sentence_score_list)\n",
    "\n",
    "# plot a histogram with scores\n",
    "import matplotlib.pyplot as plt\n",
    "plt.hist(sentence_score_list)\n",
    "plt.title('Frequency of Sentence Scores Using Tokens')\n",
    "plt.xlabel(\"Score\")\n",
    "plt.ylabel(\"Frequency\")\n",
    "plt.show()\n",
    "\n",
    "'''QUESTION: From your histogram, what seems to be the most common range of scores (put the answer in a comment after your code)?'''\n",
    "'''ANSWER: The most common range of scores is 0 to 0.04 '''"
   ]
  },
  {
   "cell_type": "markdown",
   "metadata": {},
   "source": [
    "-----\n",
    "#### QUESTION 6"
   ]
  },
  {
   "cell_type": "markdown",
   "metadata": {},
   "source": [
    "6. Make a list containing the scores (using lemmas) of every sentence in the article, and plot a histogram with appropriate titles and axis labels of the scores.  From your histogram, what seems to be the most common range of scores (put the answer in a comment after your code)?"
   ]
  },
  {
   "cell_type": "code",
   "execution_count": 8,
   "metadata": {},
   "outputs": [
    {
     "name": "stdout",
     "output_type": "stream",
     "text": [
      "\n",
      "SENTENCE SCORE LIST USING LEMMAS:\n",
      " [0.13333, 0.0, 0.09677, 0.4, 0.0, 0.0, 0.0, 0.04167, 0.0, 0.0, 0.0, 0.03333, 0.10526, 0.0, 0.0, 0.04348, 0.2, 0.05128, 0.17647, 0.18182, 0.0, 0.04545, 0.02381, 0.03846, 0.11111, 0.0625, 0.03125, 0.04167, 0.0, 0, 0.09375, 0.05882, 0.06061, 0.05405, 0.0, 0.0, 0.0, 0.05882, 0.2, 0.0, 0.09091, 0.09091, 0.15385, 0.11765, 0.04348, 0.0, 0.08333, 0.10811, 0.02941, 0.0, 0.11111, 0.0625, 0.0, 0.07692, 0.17857, 0.03922, 0.0, 0.0, 0.0, 0.0, 0.05556, 0.0, 0.0, 0.12121, 0.14286, 0.125, 0.13333]\n"
     ]
    },
    {
     "data": {
      "image/png": "[encoded data removed]",
      "text/plain": [
       "<Figure size 640x480 with 1 Axes>"
      ]
     },
     "metadata": {},
     "output_type": "display_data"
    },
    {
     "data": {
      "text/plain": [
       "'ANSWER: The most common range of scores is 0 to 0.04 '"
      ]
     },
     "execution_count": 8,
     "metadata": {},
     "output_type": "execute_result"
    }
   ],
   "source": [
    "# load article text into trained spaCy pipeline\n",
    "nlp = spacy.load('en_core_web_sm')\n",
    "nlp.add_pipe('spacytextblob')\n",
    "doc = nlp(article_content.get_text())\n",
    "\n",
    "# create a function to remove whitepace, stopwords, and punctuation\n",
    "def we_care_about(token):\n",
    "    return not (token.is_space or token.is_punct or token.is_stop)\n",
    "\n",
    "# remove whitespace, stopwords, and punctuation & make text lowercase\n",
    "interesting_lemmas = [token.lemma_.lower() for token in doc if we_care_about(token)]\n",
    "\n",
    "# count word frequency \n",
    "lemma_freq = Counter(interesting_lemmas)\n",
    "\n",
    "# interesting lemmas, 5 most common \n",
    "cool_lemmas = set()\n",
    "for l, freq in lemma_freq.most_common(5):\n",
    "    cool_lemmas.add(l)\n",
    "# print(\"5 MOST COMMON LEMMAS:\", cool_lemmas, \"\\n\")\n",
    "\n",
    "# count number of words in each sentence\n",
    "sentences = list(doc.sents)\n",
    "sentence_score_list = list()\n",
    "\n",
    "for sentence in sentences:\n",
    "    important_count = 0\n",
    "    total_count = 0\n",
    "    \n",
    "    for lem in sentence:\n",
    "        #count important words in sentence\n",
    "        if lem.lemma_.lower() in cool_lemmas:\n",
    "            important_count += 1\n",
    "        \n",
    "        #count total words in sentence\n",
    "        if not(lem.is_space or lem.is_punct):\n",
    "            total_count += 1\n",
    "    \n",
    "    score = 0 if total_count == 0 else round(important_count/total_count, 5)\n",
    "    sentence_score_list.append(score)\n",
    "    \n",
    "print(\"\\nSENTENCE SCORE LIST USING LEMMAS:\\n\", sentence_score_list)\n",
    "\n",
    "# plot a histogram with scores\n",
    "import matplotlib.pyplot as plt\n",
    "plt.hist(sentence_score_list)\n",
    "plt.title('Frequency of Sentence Scores Using Lemmas')\n",
    "plt.xlabel(\"Score\")\n",
    "plt.ylabel(\"Frequency\")\n",
    "plt.show()\n",
    "\n",
    "'''QUESTION: From your histogram, what seems to be the most common range of scores (put the answer in a comment after your code)?'''\n",
    "'''ANSWER: The most common range of scores is 0 to 0.04 '''"
   ]
  },
  {
   "cell_type": "markdown",
   "metadata": {
    "tags": []
   },
   "source": [
    "-----\n",
    "#### QUESTION 7"
   ]
  },
  {
   "cell_type": "markdown",
   "metadata": {},
   "source": [
    "7. Using the histograms from questions 5 and 6, decide a \"cutoff\" score for tokens and lemmas such that fewer than half the sentences would have a score greater than the cutoff score.  Record the scores in this Markdown cell\n",
    "\n",
    "* Cutoff Score (tokens):  0.082 (results in 15 sentences)\n",
    "* Cutoff Score (lemmas):  0.11 (results in 15 sentences)\n",
    "\n",
    "Feel free to change these scores as you generate your summaries.  Ideally, we're shooting for at least 6 sentences for our summary, but don't want more than 10 (these numbers are rough estimates; they depend on the length of your article)."
   ]
  },
  {
   "cell_type": "markdown",
   "metadata": {},
   "source": [
    "-----\n",
    "#### QUESTION 8"
   ]
  },
  {
   "cell_type": "markdown",
   "metadata": {},
   "source": [
    "8. Create a summary of the article by going through every sentence in the article and adding it to an (initially) empty list if its score (based on tokens) is greater than the cutoff score you identified in question 8.  If your loop variable is named `sent`, you may find it easier to add `sent.text.strip()` to your list of sentences.  Print the summary (I would cleanly generate the summary text by `join`ing the strings in your list together with a space (`' '.join(sentence_list)`)."
   ]
  },
  {
   "cell_type": "code",
   "execution_count": 9,
   "metadata": {},
   "outputs": [
    {
     "name": "stdout",
     "output_type": "stream",
     "text": [
      "\n",
      "ARTICLE SUMMARY USING TOKENS:\n",
      "TechnologyThe Madness of TwitterPeople just can’t stop tweeting about all the tweets they see. Since Elon Musk took over Twitter, whose users sometimes call it a “hellsite,” tweeters have been tweeting in panic mode, as if from an aircraft about to careen into a mountainside. Woe, Musk is ruining Twitter! Soon, nearly every tweet by Musk produced its own news story, as outlets followed the chaos live. Twitter teeters on the edge; Musk orders coders to HQ; A timeline of Elon Musk’s takeover; Twitter death watch captivates millions. Read: Twitter’s slow and painful endWith some reason. Some of those posts justify further discourse, including news stories. And yet, the very existence of tweets about an event can make that event seem newsworthy—by virtue of having garnered tweets. Either way, the nature of Twitter is to assert the importance of tweets. Tweets appear more meaningful when amplified, and when amplified they inspire more tweets in the same vein. This propensity is not unique to Twitter—all social media possesses it. Twitter shapes an epistemology for users under its thrall. Producers of supposedly actual news see the world through tweet-colored glasses, by transforming tweets’ hypothetical status as news into published news—which produces more tweeting in turn. What more perfect use of this hellsite than to turn it over entirely to tweets about Twitter, tweets about tweeting, tweets about leaving Twitter, tweets about how Twitter runs, or should, or won’t, or how it will end, any day now … This is what we were after all along, the purest distillation of a service that devours itself in order to fuel its own furtherance. Just as the purpose of terrorism is terror, so the purpose of Twitter is tweeting.\n",
      "\n",
      "SENTENCE COUNT: 15\n"
     ]
    }
   ],
   "source": [
    "# create a summary of the article \n",
    "# by adding each sentence to a list if its score (based on tokens) \n",
    "# is greater than the cutoff score \n",
    "# print the summary\n",
    "cutoff_score = 0.082\n",
    "\n",
    "nlp = spacy.load('en_core_web_sm')\n",
    "nlp.add_pipe('spacytextblob')\n",
    "doc = nlp(article_content.get_text())\n",
    "\n",
    "# create a function to remove whitepace, stopwords, and punctuation\n",
    "def we_care_about(token):\n",
    "    return not (token.is_space or token.is_punct or token.is_stop)\n",
    "\n",
    "# remove whitespace, stopwords, and punctuation & make text lowercase\n",
    "interesting_tokens = [token.text.lower() for token in doc if we_care_about(token)]\n",
    "\n",
    "# count token frequency \n",
    "token_freq = Counter(map(str,interesting_tokens))\n",
    "\n",
    "# important tokens, 5 most common \n",
    "important_tokens = set()\n",
    "for tkn, freq in token_freq.most_common(5):\n",
    "    important_tokens.add(tkn)\n",
    "# print(\"5 MOST COMMON TOKENS:\", important_tokens, \"\\n\")\n",
    "\n",
    "sentences = list(doc.sents)\n",
    "token_summary_list = list()\n",
    "sent_count = 0\n",
    "\n",
    "for sent in sentences:\n",
    "    important_count = 0\n",
    "    total_count = 0\n",
    "    \n",
    "    for token in sent:\n",
    "        #count important words in sentence\n",
    "        if token.text.lower() in important_tokens:\n",
    "            important_count += 1\n",
    "        \n",
    "        #count total words in sentence\n",
    "        if not(token.is_space or token.is_punct):\n",
    "            total_count += 1\n",
    "    \n",
    "    score = 0 if total_count == 0 else round(important_count/total_count, 5)\n",
    "    \n",
    "    #print(important_count, total_count, score, sent)\n",
    "    \n",
    "    if score > cutoff_score:\n",
    "        token_summary_list.append(sent) \n",
    "        sent_count +=1\n",
    "        \n",
    "print(\"\\nARTICLE SUMMARY USING TOKENS:\\n\" + ' '.join(str(s) for s in token_summary_list))\n",
    "print(\"\\nSENTENCE COUNT:\", sent_count)"
   ]
  },
  {
   "cell_type": "markdown",
   "metadata": {},
   "source": [
    "-----\n",
    "#### QUESTION 9"
   ]
  },
  {
   "cell_type": "markdown",
   "metadata": {},
   "source": [
    "9. Print the polarity score of your summary you generated with the token scores (with an appropriate label). Additionally, print the number of sentences in the summarized article."
   ]
  },
  {
   "cell_type": "code",
   "execution_count": 10,
   "metadata": {},
   "outputs": [
    {
     "name": "stdout",
     "output_type": "stream",
     "text": [
      "\n",
      "POLARITY SCORE FOR ARTICLE SUMMARY USING TOKENS:  0.21\n",
      "\n",
      "NUMBER OF SENTENCES:  15\n"
     ]
    }
   ],
   "source": [
    "nlp = spacy.load('en_core_web_sm')\n",
    "text = str(token_summary_list)\n",
    "nlp.add_pipe(\"spacytextblob\")\n",
    "doc = nlp(text)\n",
    "\n",
    "# Print the polarity score\n",
    "polarity = doc._.blob.polarity\n",
    "print(\"\\nPOLARITY SCORE FOR ARTICLE SUMMARY USING TOKENS: \", round(polarity, 3))    \n",
    "\n",
    "# print number of sentences\n",
    "token_summary_sent_count = 0\n",
    "for s in token_summary_list:\n",
    "    token_summary_sent_count +=1\n",
    "print(\"\\nNUMBER OF SENTENCES: \", token_summary_sent_count)    "
   ]
  },
  {
   "cell_type": "markdown",
   "metadata": {},
   "source": [
    "-----\n",
    "#### QUESTION 10"
   ]
  },
  {
   "cell_type": "markdown",
   "metadata": {},
   "source": [
    "10. Create a summary of the article by going through every sentence in the article and adding it to an (initially) empty list if its score (based on lemmas) is greater than the cutoff score you identified in question 8.  If your loop variable is named `sent`, you may find it easier to add `sent.text.strip()` to your list of sentences.  Print the summary (I would cleanly generate the summary text by `join`ing the strings in your list together with a space (`' '.join(sentence_list)`)."
   ]
  },
  {
   "cell_type": "code",
   "execution_count": 11,
   "metadata": {},
   "outputs": [
    {
     "name": "stdout",
     "output_type": "stream",
     "text": [
      "\n",
      "ARTICLE SUMMARY USING LEMMAS:\n",
      "TechnologyThe Madness of TwitterPeople just can’t stop tweeting about all the tweets they see. Woe, Musk is ruining Twitter! All throughout, others tweeted nearby. Soon, nearly every tweet by Musk produced its own news story, as outlets followed the chaos live. Twitter teeters on the edge; Musk orders coders to HQ; A timeline of Elon Musk’s takeover; Twitter death watch captivates millions. Read: Twitter’s slow and painful endWith some reason. Some of those posts justify further discourse, including news stories. Either way, the nature of Twitter is to assert the importance of tweets. Tweets appear more meaningful when amplified, and when amplified they inspire more tweets in the same vein. Twitter shapes an epistemology for users under its thrall. Producers of supposedly actual news see the world through tweet-colored glasses, by transforming tweets’ hypothetical status as news into published news—which produces more tweeting in turn. What more perfect use of this hellsite than to turn it over entirely to tweets about Twitter, tweets about tweeting, tweets about leaving Twitter, tweets about how Twitter runs, or should, or won’t, or how it will end, any day now … This is what we were after all along, the purest distillation of a service that devours itself in order to fuel its own furtherance. We never really tweeted to say something. We tweeted because Twitter offered a format for having something to say, over and over again. Just as the purpose of terrorism is terror, so the purpose of Twitter is tweeting.\n",
      "\n",
      "SENTENCE COUNT: 15\n"
     ]
    }
   ],
   "source": [
    "# create a summary of the article \n",
    "# by adding each sentence to a list if its score (based on lemmas) \n",
    "# is greater than the cutoff score \n",
    "# print the summary\n",
    "cutoff_score = 0.11\n",
    "\n",
    "nlp = spacy.load('en_core_web_sm')\n",
    "nlp.add_pipe('spacytextblob')\n",
    "doc = nlp(article_content.get_text())\n",
    "\n",
    "# create a function to remove whitepace, stopwords, and punctuation\n",
    "def we_care_about(token):\n",
    "    return not (token.is_space or token.is_punct or token.is_stop)\n",
    "\n",
    "# remove whitespace, stopwords, and punctuation & make text lowercase\n",
    "interesting_lemmas = [token.lemma_.lower() for token in doc if we_care_about(token)]\n",
    "\n",
    "# count lemma frequency \n",
    "lemma_freq = Counter(interesting_lemmas)\n",
    "\n",
    "# important lemmas, 5 most common \n",
    "important_lemmas = set()\n",
    "for lem, freq in lemma_freq.most_common(5):\n",
    "    important_lemmas.add(lem)\n",
    "# print(\"5 MOST COMMON LEMMAS:\", important_lemmas, \"\\n\")\n",
    "\n",
    "sentences = list(doc.sents)\n",
    "lemma_summary_list = list()\n",
    "sent_count = 0\n",
    "\n",
    "for sent in sentences:\n",
    "    important_count = 0\n",
    "    total_count = 0\n",
    "    \n",
    "    for lem in sent:\n",
    "        #count important words in sentence\n",
    "        if lem.lemma_.lower() in important_lemmas:\n",
    "            important_count += 1\n",
    "        \n",
    "        #count total words in sentence\n",
    "        if not(lem.is_space or lem.is_punct):\n",
    "            total_count += 1\n",
    "    \n",
    "    score = 0 if total_count == 0 else round(important_count/total_count, 5)\n",
    "    \n",
    "    #print(important_count, total_count, score, sent)\n",
    "    \n",
    "    if score > cutoff_score:\n",
    "        lemma_summary_list.append(sent) \n",
    "        sent_count +=1\n",
    "        \n",
    "print(\"\\nARTICLE SUMMARY USING LEMMAS:\\n\" + ' '.join(str(s) for s in lemma_summary_list))\n",
    "print(\"\\nSENTENCE COUNT:\", sent_count)"
   ]
  },
  {
   "cell_type": "markdown",
   "metadata": {},
   "source": [
    "-----\n",
    "#### QUESTION 11"
   ]
  },
  {
   "cell_type": "markdown",
   "metadata": {},
   "source": [
    "11. Print the polarity score of your summary you generated with the lemma scores (with an appropriate label). Additionally, print the number of sentences in the summarized article."
   ]
  },
  {
   "cell_type": "code",
   "execution_count": 12,
   "metadata": {},
   "outputs": [
    {
     "name": "stdout",
     "output_type": "stream",
     "text": [
      "\n",
      "POLARITY SCORE FOR ARTICLE SUMMARY USING LEMMAS:  0.226\n",
      "\n",
      "NUMBER OF SENTENCES:  15\n"
     ]
    }
   ],
   "source": [
    "nlp = spacy.load('en_core_web_sm')\n",
    "text = str(lemma_summary_list)\n",
    "nlp.add_pipe(\"spacytextblob\")\n",
    "doc = nlp(text)\n",
    "\n",
    "# Print the polarity score\n",
    "polarity = doc._.blob.polarity\n",
    "print(\"\\nPOLARITY SCORE FOR ARTICLE SUMMARY USING LEMMAS: \", round(polarity, 3))    \n",
    "\n",
    "# print number of sentences\n",
    "lemma_summary_sent_count = 0\n",
    "for s in lemma_summary_list:\n",
    "    lemma_summary_sent_count +=1\n",
    "print(\"\\nNUMBER OF SENTENCES: \", lemma_summary_sent_count)    "
   ]
  },
  {
   "cell_type": "markdown",
   "metadata": {},
   "source": [
    "-----\n",
    "#### QUESTION 12"
   ]
  },
  {
   "cell_type": "markdown",
   "metadata": {},
   "source": [
    "12.  Compare your polarity scores of your summaries to the polarity scores of the initial article.  Is there a difference?  Why do you think that may or may not be?.  Answer in this Markdown cell.  \n",
    "\n",
    "##### Answer:\n",
    "\n",
    "Initial Article:\n",
    "> Polarity Score:  0.145 <br>\n",
    "\n",
    "Article Summary:\n",
    "> Polarity Score Using Tokens:  0.21 <br>\n",
    "> Polarity Score Using Lemmas:  0.226\n",
    "\n",
    "Yes, there is a difference from the polarity score of the original article and those generated from the token/lemma summaries.\n",
    "The initial score of 0.145 was lower than those from the tokens and lemmas. <br>\n",
    "\n",
    "The reason for this could be that by first identifying tokens, and summarizing the article to keep only the important sentences with token scores above a certain threshold, then repeating the process to further summarize the article using lemmatization, sentences that were less-important to the main purpose of the article were removed. These filler sentences may have been bringing the original polarity score down.  Reading through the original article, the filler sentences seem to be more sarcastic in nature, which makes sense that they may lower the polarity score.<br>\n"
   ]
  },
  {
   "cell_type": "markdown",
   "metadata": {},
   "source": [
    "-----\n",
    "#### QUESTION 13"
   ]
  },
  {
   "cell_type": "markdown",
   "metadata": {},
   "source": [
    "13. Based on your reading of the original article, which summary do you think is better (if there's a difference).  Why do you think this might be?\n",
    "\n",
    "##### Answer:\n",
    "I think the lemma summary would be more accurate as far as identifying and summarizing the true intention of the article.  <br>\n",
    "\n",
    "Using lemmatization, words are grouped under their base root and analyzed together. In this process, the word \"tweets\" and \"tweeting\" are grouped under the same base root, whereas, using tokens these words are kept separate. As a result, in the token summary we see fewer distinct base words being identified as important than in the lemma summary.  <br>\n",
    "\n",
    "The lemmatization method is better at identifying these duplicative base words, allowing for a larger number of important words to be identified that add value to the article and its summary.\n",
    "\n"
   ]
  },
  {
   "cell_type": "code",
   "execution_count": null,
   "metadata": {},
   "outputs": [],
   "source": []
  }
 ],
 "metadata": {
  "kernelspec": {
   "display_name": "Python 3 (ipykernel)",
   "language": "python",
   "name": "python3"
  },
  "language_info": {
   "codemirror_mode": {
    "name": "ipython",
    "version": 3
   },
   "file_extension": ".py",
   "mimetype": "text/x-python",
   "name": "python",
   "nbconvert_exporter": "python",
   "pygments_lexer": "ipython3",
   "version": "3.9.7"
  }
 },
 "nbformat": 4,
 "nbformat_minor": 4
}
